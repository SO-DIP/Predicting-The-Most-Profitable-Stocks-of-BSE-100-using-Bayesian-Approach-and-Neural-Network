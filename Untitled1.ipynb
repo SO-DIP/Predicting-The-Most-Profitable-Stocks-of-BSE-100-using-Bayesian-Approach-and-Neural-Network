{
 "cells": [
  {
   "cell_type": "code",
   "execution_count": 1,
   "id": "95ef58f0",
   "metadata": {},
   "outputs": [
    {
     "name": "stdout",
     "output_type": "stream",
     "text": [
      "Files and directories in ' C:\\Portfolio Optimization and Classification\\BSE 100 5 yrs data ' :\n",
      "['.ipynb_checkpoints', '500010.csv', '500034.csv', '500049.csv', '500087.csv', '500096.csv', '500112.csv', '500114.csv', '500124.csv', '500180.csv', '500182.csv', '500209.csv', '500228.csv', '500247.csv', '500251.csv', '500257.csv', '500271.csv', '500295.csv', '500300.csv', '500312.csv', '500325.csv', '500331.csv', '500387.csv', '500400.csv', '500408.csv', '500410.csv', '500425.csv', '500440.csv', '500469.csv', '500470.csv', '500477.csv', '500490.csv', '500493.csv', '500510.csv', '500520.csv', '500547.csv', '500550.csv', '500570.csv', '500575.csv', '500696.csv', '500790.csv', '500800.csv', '500820.csv', '500825.csv', '500830.csv', '500850.csv', '500875.csv', '503806.csv', '505200.csv', '505537.csv', '507685.csv', '508869.csv', '511218.csv', '511243.csv', '512070.csv', '512599.csv', '517354.csv', '523642.csv', '524715.csv', '524804.csv', '526299.csv', '530965.csv', '531642.csv', '532134.csv', '532155.csv', '532174.csv', '532187.csv', '532215.csv', '532281.csv', '532424.csv', '532454.csv', '532488.csv', '532500.csv', '532538.csv', '532540.csv', '532555.csv', '532755.csv', '532777.csv', '532827.csv', '532868.csv', '532898.csv', '532921.csv', '532977.csv', '532978.csv', '533096.csv', '533150.csv', '533155.csv', '533278.csv', '534816.csv', '539448.csv', '539876.csv', '540005.csv', '540133.csv', '540376.csv', '540611.csv', '540716.csv', '540719.csv', '540777.csv', '541153.csv', '542830.csv', '570001.csv', 'Constituents.xlsx', 'ConstituentsExport.xlsx', 'Dabur India Ltd.ipynb', 'Dabur.csv', 'Dabur1.csv', 'Hind.csv', 'Hindustan Unilever Ltd.ipynb', 'LSTM - Hind.ipynb', 'output.xlsx', 'PIDILITE Industries Ltd.ipynb', 'PIDILITE.csv', 'Untitled.ipynb', 'Untitled1.ipynb', 'Untitled10.ipynb', 'Untitled11.ipynb', 'Untitled12.ipynb', 'Untitled13.ipynb', 'Untitled14.ipynb', 'Untitled15.ipynb', 'Untitled16.ipynb', 'Untitled17.ipynb', 'Untitled18.ipynb', 'Untitled2.ipynb', 'Untitled3.ipynb', 'Untitled4.ipynb', 'Untitled5.ipynb', 'Untitled6.ipynb', 'Untitled7.ipynb', 'Untitled8.ipynb', 'Untitled9.ipynb', 'updated_data.csv', 'updated_data1.csv', 'updated_data2.csv', 'updated_data3.csv', 'updated_data4.csv', 'updated_data5.csv', 'updated_data6.csv', 'updated_data7.csv', 'updated_data8.csv', 'updated_data9.csv']\n"
     ]
    }
   ],
   "source": [
    "import os\n",
    " \n",
    "# Get the list of all files and directories\n",
    "path = \"C:\\Portfolio Optimization and Classification\\BSE 100 5 yrs data\"\n",
    "dir_list = os.listdir(path)\n",
    " \n",
    "print(\"Files and directories in '\", path, \"' :\")\n",
    " \n",
    "# prints all files\n",
    "print(dir_list)"
   ]
  },
  {
   "cell_type": "code",
   "execution_count": 2,
   "id": "177b3659",
   "metadata": {},
   "outputs": [],
   "source": [
    "\n",
    "# import module\n",
    "\n",
    "import pandas as pd\n",
    " \n",
    "# assign dataset names\n",
    "\n",
    "list_of_names = ['500010.csv', '500034.csv', '500049.csv', '500087.csv', '500096.csv', '500112.csv', '500114.csv', '500124.csv', '500180.csv', '500182.csv', '500209.csv', '500228.csv', '500247.csv', '500251.csv', '500257.csv', '500271.csv', '500295.csv', '500300.csv', '500312.csv', '500325.csv', '500331.csv', '500387.csv', '500400.csv', '500408.csv', '500410.csv', '500425.csv', '500440.csv', '500469.csv', '500470.csv', '500477.csv', '500490.csv', '500493.csv', '500510.csv', '500520.csv', '500547.csv', '500550.csv', '500570.csv', '500575.csv', '500696.csv', '500790.csv', '500800.csv', '500820.csv', '500825.csv', '500830.csv', '500850.csv', '500875.csv', '503806.csv', '505200.csv', '505537.csv', '507685.csv', '508869.csv', '511218.csv', '511243.csv', '512070.csv', '512599.csv', '517354.csv', '523642.csv', '524715.csv', '524804.csv', '526299.csv', '530965.csv', '531642.csv', '532134.csv', '532155.csv', '532174.csv', '532187.csv', '532215.csv', '532281.csv', '532424.csv', '532454.csv', '532488.csv', '532500.csv', '532538.csv', '532540.csv', '532555.csv', '532755.csv', '532777.csv', '532827.csv', '532868.csv', '532898.csv', '532921.csv', '532977.csv', '532978.csv', '533096.csv', '533150.csv', '533155.csv', '533278.csv', '534816.csv', '539448.csv', '539876.csv', '540005.csv', '540133.csv', '540376.csv', '540611.csv', '540716.csv', '540719.csv', '540777.csv', '541153.csv', '542830.csv', '570001.csv']\n",
    " \n",
    "# create empty list\n",
    "\n",
    "dataframes_list = []\n",
    " \n",
    "# append datasets into the list\n",
    "\n",
    "for i in range(len(list_of_names)):\n",
    "\n",
    "    temp_df = pd.read_csv(list_of_names[i])\n",
    "\n",
    "    dataframes_list.append(temp_df)"
   ]
  },
  {
   "cell_type": "code",
   "execution_count": 3,
   "id": "cbb9b839",
   "metadata": {},
   "outputs": [],
   "source": [
    "import math"
   ]
  },
  {
   "cell_type": "code",
   "execution_count": 4,
   "id": "6abe72ce",
   "metadata": {},
   "outputs": [
    {
     "name": "stdout",
     "output_type": "stream",
     "text": [
      "Empty DataFrame\n",
      "Columns: [Close Price]\n",
      "Index: []\n"
     ]
    }
   ],
   "source": [
    "import statistics\n",
    "df = pd.DataFrame(columns = ['Close Price'])\n",
    "print(df)"
   ]
  },
  {
   "cell_type": "code",
   "execution_count": 10,
   "id": "a4955224",
   "metadata": {},
   "outputs": [],
   "source": [
    "def func(i):\n",
    "    df['Close Price'] = dataframes_list[i].loc[:59,'Close Price']\n",
    "    for j in range(1,len(df['Close Price'])):\n",
    "         df[1][j-1]=math.log(df['Close Price'][j]/df['Close Price'][j-1])\n",
    "    return df[1][:58]\n",
    "                        "
   ]
  },
  {
   "cell_type": "code",
   "execution_count": 11,
   "id": "bcb0bc2e",
   "metadata": {},
   "outputs": [
    {
     "data": {
      "text/plain": [
       "0    -0.074800\n",
       "1     0.005303\n",
       "2     0.032491\n",
       "3    -0.030246\n",
       "4     0.042219\n",
       "5     0.044804\n",
       "6    -0.032222\n",
       "7    -0.095543\n",
       "8     0.007972\n",
       "9     0.114239\n",
       "10   -0.006930\n",
       "11   -0.023783\n",
       "12   -0.043534\n",
       "13    0.065946\n",
       "14    0.014182\n",
       "15    0.089489\n",
       "16    0.004504\n",
       "17   -0.032620\n",
       "18    0.020895\n",
       "19   -0.091735\n",
       "20    0.076667\n",
       "21    0.073102\n",
       "22    0.049911\n",
       "23   -0.000435\n",
       "24   -0.102812\n",
       "25   -0.288954\n",
       "26    0.161958\n",
       "27   -0.144388\n",
       "28    0.055843\n",
       "29    0.015944\n",
       "30    0.027550\n",
       "31   -0.052280\n",
       "32    0.100274\n",
       "33    0.160524\n",
       "34    0.125180\n",
       "35   -0.073306\n",
       "36    0.065635\n",
       "37   -0.015919\n",
       "38   -0.032041\n",
       "39    0.053655\n",
       "40   -0.031547\n",
       "41   -0.013632\n",
       "42    0.136975\n",
       "43   -0.016008\n",
       "44    0.031869\n",
       "45   -0.060669\n",
       "46   -0.034032\n",
       "47   -0.025785\n",
       "48   -0.063878\n",
       "49    0.009950\n",
       "50   -0.069557\n",
       "51    0.034863\n",
       "52   -0.064284\n",
       "53    0.094972\n",
       "54    0.027814\n",
       "55   -0.066202\n",
       "56    0.075783\n",
       "57    0.086019\n",
       "Name: 1, dtype: float64"
      ]
     },
     "execution_count": 11,
     "metadata": {},
     "output_type": "execute_result"
    }
   ],
   "source": [
    "func(0)"
   ]
  },
  {
   "cell_type": "code",
   "execution_count": 12,
   "id": "6937fad4",
   "metadata": {},
   "outputs": [],
   "source": [
    "from scipy.stats import skew\n"
   ]
  },
  {
   "cell_type": "code",
   "execution_count": 13,
   "id": "87f5b8d2",
   "metadata": {},
   "outputs": [],
   "source": [
    "   DFT=pd.DataFrame()\n",
    "for i in range(0,98):\n",
    "    K=func(i)\n",
    "    Datax = pd.DataFrame({'Avg':statistics.mean(K),\n",
    "                          'SD':statistics.stdev(K),\n",
    "                          'Skewness':skew(K,bias=False)},index=[0])\n",
    "    DFT=pd.concat([DFT,Datax],axis=0)\n",
    "   \n",
    "    \n",
    "    "
   ]
  },
  {
   "cell_type": "code",
   "execution_count": 14,
   "id": "f77312ac",
   "metadata": {},
   "outputs": [],
   "source": [
    "DFT=DFT.reset_index(drop=True)"
   ]
  },
  {
   "cell_type": "code",
   "execution_count": 15,
   "id": "da6c5ea8",
   "metadata": {},
   "outputs": [
    {
     "data": {
      "text/html": [
       "<div>\n",
       "<style scoped>\n",
       "    .dataframe tbody tr th:only-of-type {\n",
       "        vertical-align: middle;\n",
       "    }\n",
       "\n",
       "    .dataframe tbody tr th {\n",
       "        vertical-align: top;\n",
       "    }\n",
       "\n",
       "    .dataframe thead th {\n",
       "        text-align: right;\n",
       "    }\n",
       "</style>\n",
       "<table border=\"1\" class=\"dataframe\">\n",
       "  <thead>\n",
       "    <tr style=\"text-align: right;\">\n",
       "      <th></th>\n",
       "      <th>Avg</th>\n",
       "      <th>SD</th>\n",
       "      <th>Skewness</th>\n",
       "    </tr>\n",
       "  </thead>\n",
       "  <tbody>\n",
       "    <tr>\n",
       "      <th>0</th>\n",
       "      <td>0.005507</td>\n",
       "      <td>0.078736</td>\n",
       "      <td>-0.674205</td>\n",
       "    </tr>\n",
       "    <tr>\n",
       "      <th>1</th>\n",
       "      <td>0.023935</td>\n",
       "      <td>0.148122</td>\n",
       "      <td>-1.674949</td>\n",
       "    </tr>\n",
       "    <tr>\n",
       "      <th>2</th>\n",
       "      <td>-0.008230</td>\n",
       "      <td>0.183064</td>\n",
       "      <td>-3.892470</td>\n",
       "    </tr>\n",
       "    <tr>\n",
       "      <th>3</th>\n",
       "      <td>0.011435</td>\n",
       "      <td>0.080622</td>\n",
       "      <td>0.899400</td>\n",
       "    </tr>\n",
       "    <tr>\n",
       "      <th>4</th>\n",
       "      <td>0.008765</td>\n",
       "      <td>0.060030</td>\n",
       "      <td>0.141156</td>\n",
       "    </tr>\n",
       "    <tr>\n",
       "      <th>...</th>\n",
       "      <td>...</td>\n",
       "      <td>...</td>\n",
       "      <td>...</td>\n",
       "    </tr>\n",
       "    <tr>\n",
       "      <th>93</th>\n",
       "      <td>-0.000488</td>\n",
       "      <td>0.193528</td>\n",
       "      <td>-2.256996</td>\n",
       "    </tr>\n",
       "    <tr>\n",
       "      <th>94</th>\n",
       "      <td>0.007425</td>\n",
       "      <td>0.067231</td>\n",
       "      <td>0.007624</td>\n",
       "    </tr>\n",
       "    <tr>\n",
       "      <th>95</th>\n",
       "      <td>0.011484</td>\n",
       "      <td>0.087925</td>\n",
       "      <td>-1.532531</td>\n",
       "    </tr>\n",
       "    <tr>\n",
       "      <th>96</th>\n",
       "      <td>0.005582</td>\n",
       "      <td>0.077515</td>\n",
       "      <td>-0.546373</td>\n",
       "    </tr>\n",
       "    <tr>\n",
       "      <th>97</th>\n",
       "      <td>-0.011223</td>\n",
       "      <td>0.168036</td>\n",
       "      <td>-0.693386</td>\n",
       "    </tr>\n",
       "  </tbody>\n",
       "</table>\n",
       "<p>98 rows × 3 columns</p>\n",
       "</div>"
      ],
      "text/plain": [
       "         Avg        SD  Skewness\n",
       "0   0.005507  0.078736 -0.674205\n",
       "1   0.023935  0.148122 -1.674949\n",
       "2  -0.008230  0.183064 -3.892470\n",
       "3   0.011435  0.080622  0.899400\n",
       "4   0.008765  0.060030  0.141156\n",
       "..       ...       ...       ...\n",
       "93 -0.000488  0.193528 -2.256996\n",
       "94  0.007425  0.067231  0.007624\n",
       "95  0.011484  0.087925 -1.532531\n",
       "96  0.005582  0.077515 -0.546373\n",
       "97 -0.011223  0.168036 -0.693386\n",
       "\n",
       "[98 rows x 3 columns]"
      ]
     },
     "execution_count": 15,
     "metadata": {},
     "output_type": "execute_result"
    }
   ],
   "source": [
    "DFT"
   ]
  },
  {
   "cell_type": "code",
   "execution_count": 18,
   "id": "0f914722",
   "metadata": {},
   "outputs": [
    {
     "data": {
      "text/plain": [
       "0.06003042637095162"
      ]
     },
     "execution_count": 18,
     "metadata": {},
     "output_type": "execute_result"
    }
   ],
   "source": [
    "DFT['Avg'][4]\n",
    "DFT['SD'][4]"
   ]
  },
  {
   "cell_type": "code",
   "execution_count": 62,
   "id": "7460789d",
   "metadata": {},
   "outputs": [],
   "source": [
    "DFT.to_excel(r'C:\\Users\\sb732\\OneDrive\\Desktop\\DFT.xlsx')"
   ]
  },
  {
   "cell_type": "code",
   "execution_count": 6,
   "id": "a81a7cbb",
   "metadata": {},
   "outputs": [
    {
     "data": {
      "text/plain": [
       "('500096.csv',\n",
       " '500331.csv',\n",
       " '500696.csv',\n",
       " '500820.csv',\n",
       " '500830.csv',\n",
       " '531642.csv',\n",
       " '540716.csv',\n",
       " '500124.csv',\n",
       " '500550.csv',\n",
       " '532555.csv')"
      ]
     },
     "execution_count": 6,
     "metadata": {},
     "output_type": "execute_result"
    }
   ],
   "source": [
    "list_of_names[4],list_of_names[20],list_of_names[38],list_of_names[41],list_of_names[43],list_of_names[61],list_of_names[94],list_of_names[7],list_of_names[35],list_of_names[74]"
   ]
  },
  {
   "cell_type": "code",
   "execution_count": null,
   "id": "a88b8d48",
   "metadata": {},
   "outputs": [],
   "source": []
  }
 ],
 "metadata": {
  "kernelspec": {
   "display_name": "Python 3 (ipykernel)",
   "language": "python",
   "name": "python3"
  },
  "language_info": {
   "codemirror_mode": {
    "name": "ipython",
    "version": 3
   },
   "file_extension": ".py",
   "mimetype": "text/x-python",
   "name": "python",
   "nbconvert_exporter": "python",
   "pygments_lexer": "ipython3",
   "version": "3.11.1"
  }
 },
 "nbformat": 4,
 "nbformat_minor": 5
}
